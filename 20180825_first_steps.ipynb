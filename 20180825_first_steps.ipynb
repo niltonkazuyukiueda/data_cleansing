{
 "cells": [
  {
   "cell_type": "code",
   "execution_count": 38,
   "metadata": {},
   "outputs": [],
   "source": [
    "inteiro = 10\n",
    "flutuante = 10.00\n",
    "caracteres = \"10.00\"\n",
    "booleana = True\n",
    "data = \"2018-08-25\"\n",
    "lista = [1,2,3,4,5,6,7,8,9]\n",
    "dicionario = {'nome' : 'Nilton Kazuyuki Ueda', 'idade': 22, 'cargo': 'Cientista de Dados'}\n",
    "tupla = ('1','2','3','4','5','6','7','8','9')"
   ]
  },
  {
   "cell_type": "code",
   "execution_count": 67,
   "metadata": {},
   "outputs": [
    {
     "name": "stdout",
     "output_type": "stream",
     "text": [
      "1\n"
     ]
    }
   ],
   "source": [
    "for i in lista:\n",
    "    print(i)\n",
    "    break"
   ]
  },
  {
   "cell_type": "code",
   "execution_count": 68,
   "metadata": {},
   "outputs": [
    {
     "name": "stdout",
     "output_type": "stream",
     "text": [
      "1\n"
     ]
    }
   ],
   "source": [
    "numero = 1\n",
    "while numero < 10:\n",
    "    print(numero)\n",
    "    numero = numero + 1\n",
    "    break"
   ]
  },
  {
   "cell_type": "code",
   "execution_count": 73,
   "metadata": {},
   "outputs": [
    {
     "name": "stdout",
     "output_type": "stream",
     "text": [
      "[10, 18, 20, 24, 28]\n"
     ]
    }
   ],
   "source": [
    "idades = [10,18,20,24,28]\n",
    "print(idades)"
   ]
  },
  {
   "cell_type": "code",
   "execution_count": 92,
   "metadata": {},
   "outputs": [
    {
     "name": "stdout",
     "output_type": "stream",
     "text": [
      "ATENÇÃO!!! Menor que 18 anos: 10\n",
      "OK. Cliente tem 18 anos. Liberar na catraca.\n",
      "MAIOR que 18 anos: 20\n",
      "MAIOR que 18 anos: 24\n",
      "MAIOR que 18 anos: 28\n"
     ]
    }
   ],
   "source": [
    "for idade in idades:\n",
    "    if idade > 18:\n",
    "        print('MAIOR que 18 anos: ' + str(idade))\n",
    "    elif idade == 18:\n",
    "        print('OK. Cliente tem 18 anos. Liberar na catraca.')\n",
    "    else:\n",
    "        print('ATENÇÃO!!! Menor que 18 anos: {}'.format(idade))"
   ]
  },
  {
   "cell_type": "code",
   "execution_count": 99,
   "metadata": {},
   "outputs": [],
   "source": [
    "def status_age(idade):\n",
    "    #for idade in idades:\n",
    "        if idade > 18:\n",
    "            print('MAIOR que 18 anos: ' + str(idade))\n",
    "        elif idade == 18:\n",
    "            print('OK. Cliente tem 18 anos. Liberar na catraca.')\n",
    "        else:\n",
    "            print('ATENÇÃO!!! Menor que 18 anos: {}'.format(idade))"
   ]
  },
  {
   "cell_type": "code",
   "execution_count": 101,
   "metadata": {},
   "outputs": [
    {
     "name": "stdout",
     "output_type": "stream",
     "text": [
      "MAIOR que 18 anos: 20\n"
     ]
    }
   ],
   "source": [
    "status_age(20)"
   ]
  }
 ],
 "metadata": {
  "kernelspec": {
   "display_name": "Python 3",
   "language": "python",
   "name": "python3"
  },
  "language_info": {
   "codemirror_mode": {
    "name": "ipython",
    "version": 3
   },
   "file_extension": ".py",
   "mimetype": "text/x-python",
   "name": "python",
   "nbconvert_exporter": "python",
   "pygments_lexer": "ipython3",
   "version": "3.6.6"
  }
 },
 "nbformat": 4,
 "nbformat_minor": 2
}
